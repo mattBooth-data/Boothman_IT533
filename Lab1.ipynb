{
 "cells": [
  {
   "cell_type": "code",
   "execution_count": 1,
   "id": "76a37773",
   "metadata": {},
   "outputs": [],
   "source": [
    "import numpy as np\n",
    "import pandas as pd \n",
    "import matplotlib.pyplot as plt"
   ]
  },
  {
   "cell_type": "code",
   "execution_count": 2,
   "id": "126856a7",
   "metadata": {},
   "outputs": [],
   "source": [
    "book = pd.read_csv(\"https://raw.githubusercontent.com/mattBooth-data/Boothman_IT533/main/books_Fixed.csv\")"
   ]
  },
  {
   "cell_type": "code",
   "execution_count": 3,
   "id": "73c0c5f9",
   "metadata": {},
   "outputs": [],
   "source": [
    "book.dropna(inplace=True)"
   ]
  },
  {
   "cell_type": "code",
   "execution_count": 4,
   "id": "ed2d4f2b",
   "metadata": {},
   "outputs": [
    {
     "data": {
      "text/plain": [
       "bookID                3\n",
       "title                 3\n",
       "authors               3\n",
       "average_rating        3\n",
       "isbn                  3\n",
       "isbn13                3\n",
       "language_code         3\n",
       "  num_pages           3\n",
       "ratings_count         3\n",
       "text_reviews_count    3\n",
       "publication_date      3\n",
       "publisher             3\n",
       "Unnamed: 12           3\n",
       "dtype: int64"
      ]
     },
     "execution_count": 4,
     "metadata": {},
     "output_type": "execute_result"
    }
   ],
   "source": [
    "book.count()"
   ]
  },
  {
   "cell_type": "code",
   "execution_count": 5,
   "id": "bdac1da1",
   "metadata": {},
   "outputs": [
    {
     "data": {
      "text/html": [
       "<div>\n",
       "<style scoped>\n",
       "    .dataframe tbody tr th:only-of-type {\n",
       "        vertical-align: middle;\n",
       "    }\n",
       "\n",
       "    .dataframe tbody tr th {\n",
       "        vertical-align: top;\n",
       "    }\n",
       "\n",
       "    .dataframe thead th {\n",
       "        text-align: right;\n",
       "    }\n",
       "</style>\n",
       "<table border=\"1\" class=\"dataframe\">\n",
       "  <thead>\n",
       "    <tr style=\"text-align: right;\">\n",
       "      <th></th>\n",
       "      <th>bookID</th>\n",
       "      <th>ratings_count</th>\n",
       "      <th>text_reviews_count</th>\n",
       "    </tr>\n",
       "  </thead>\n",
       "  <tbody>\n",
       "    <tr>\n",
       "      <th>count</th>\n",
       "      <td>3.000000</td>\n",
       "      <td>3.000000</td>\n",
       "      <td>3.000000</td>\n",
       "    </tr>\n",
       "    <tr>\n",
       "      <th>mean</th>\n",
       "      <td>24643.666667</td>\n",
       "      <td>263.666667</td>\n",
       "      <td>21.333333</td>\n",
       "    </tr>\n",
       "    <tr>\n",
       "      <th>std</th>\n",
       "      <td>9247.788402</td>\n",
       "      <td>188.155078</td>\n",
       "      <td>19.425070</td>\n",
       "    </tr>\n",
       "    <tr>\n",
       "      <th>min</th>\n",
       "      <td>16914.000000</td>\n",
       "      <td>49.000000</td>\n",
       "      <td>0.000000</td>\n",
       "    </tr>\n",
       "    <tr>\n",
       "      <th>25%</th>\n",
       "      <td>19521.000000</td>\n",
       "      <td>195.500000</td>\n",
       "      <td>13.000000</td>\n",
       "    </tr>\n",
       "    <tr>\n",
       "      <th>50%</th>\n",
       "      <td>22128.000000</td>\n",
       "      <td>342.000000</td>\n",
       "      <td>26.000000</td>\n",
       "    </tr>\n",
       "    <tr>\n",
       "      <th>75%</th>\n",
       "      <td>28508.500000</td>\n",
       "      <td>371.000000</td>\n",
       "      <td>32.000000</td>\n",
       "    </tr>\n",
       "    <tr>\n",
       "      <th>max</th>\n",
       "      <td>34889.000000</td>\n",
       "      <td>400.000000</td>\n",
       "      <td>38.000000</td>\n",
       "    </tr>\n",
       "  </tbody>\n",
       "</table>\n",
       "</div>"
      ],
      "text/plain": [
       "             bookID  ratings_count  text_reviews_count\n",
       "count      3.000000       3.000000            3.000000\n",
       "mean   24643.666667     263.666667           21.333333\n",
       "std     9247.788402     188.155078           19.425070\n",
       "min    16914.000000      49.000000            0.000000\n",
       "25%    19521.000000     195.500000           13.000000\n",
       "50%    22128.000000     342.000000           26.000000\n",
       "75%    28508.500000     371.000000           32.000000\n",
       "max    34889.000000     400.000000           38.000000"
      ]
     },
     "execution_count": 5,
     "metadata": {},
     "output_type": "execute_result"
    }
   ],
   "source": [
    "book.describe()"
   ]
  },
  {
   "cell_type": "code",
   "execution_count": 7,
   "id": "f41f64fe",
   "metadata": {},
   "outputs": [
    {
     "data": {
      "text/plain": [
       "count      3.000000\n",
       "mean     263.666667\n",
       "std      188.155078\n",
       "min       49.000000\n",
       "25%      195.500000\n",
       "50%      342.000000\n",
       "75%      371.000000\n",
       "max      400.000000\n",
       "Name: ratings_count, dtype: float64"
      ]
     },
     "execution_count": 7,
     "metadata": {},
     "output_type": "execute_result"
    }
   ],
   "source": [
    "book.ratings_count.describe()"
   ]
  },
  {
   "cell_type": "code",
   "execution_count": 25,
   "id": "c21f7fe4",
   "metadata": {},
   "outputs": [
    {
     "data": {
      "text/plain": [
       "count     3.000000\n",
       "mean     21.333333\n",
       "std      19.425070\n",
       "min       0.000000\n",
       "25%      13.000000\n",
       "50%      26.000000\n",
       "75%      32.000000\n",
       "max      38.000000\n",
       "Name: text_reviews_count, dtype: float64"
      ]
     },
     "execution_count": 25,
     "metadata": {},
     "output_type": "execute_result"
    }
   ],
   "source": [
    "book.text_reviews_count.describe()"
   ]
  },
  {
   "cell_type": "markdown",
   "id": "e54ef7db",
   "metadata": {},
   "source": []
  },
  {
   "cell_type": "code",
   "execution_count": 22,
   "id": "9ea1fa1d",
   "metadata": {},
   "outputs": [
    {
     "data": {
      "text/plain": [
       "<AxesSubplot:title={'center':'bookID'}, xlabel='authors'>"
      ]
     },
     "execution_count": 22,
     "metadata": {},
     "output_type": "execute_result"
    },
    {
     "data": {
      "image/png": "[encoded data removed]",
      "text/plain": [
       "<Figure size 432x288 with 1 Axes>"
      ]
     },
     "metadata": {
      "needs_background": "light"
     },
     "output_type": "display_data"
    }
   ],
   "source": [
    "book.boxplot(column='bookID',by='authors')"
   ]
  },
  {
   "cell_type": "code",
   "execution_count": 23,
   "id": "f7218745",
   "metadata": {},
   "outputs": [],
   "source": [
    "import scipy.spatial.distance as dist"
   ]
  },
  {
   "cell_type": "code",
   "execution_count": 24,
   "id": "899f98fe",
   "metadata": {},
   "outputs": [
    {
     "name": "stdout",
     "output_type": "stream",
     "text": [
      "distance: 727\n"
     ]
    }
   ],
   "source": [
    "point1 = np.array((book.ratings_count))\n",
    "point2 = np.array((book.text_reviews_count))\n",
    "\n",
    "print (\"distance:\", dist.cityblock(point1,point2))"
   ]
  },
  {
   "cell_type": "markdown",
   "id": "b7348141",
   "metadata": {},
   "source": [
    "The Data was broken since I'm pretty sure one of the lineswas messed up since, I originally had to go delete a data point that was in column M on excel since the data is supposed to go from A to L. This is easily represented by the box plot and how we can't use average rating as a class attribute since it isn't a Float/Int. overall i feel like i need to do some tuning of the data before next Lab."
   ]
  },
  {
   "cell_type": "code",
   "execution_count": null,
   "id": "73ad9f0b",
   "metadata": {},
   "outputs": [],
   "source": []
  },
  {
   "cell_type": "code",
   "execution_count": null,
   "id": "059bfb82",
   "metadata": {},
   "outputs": [],
   "source": []
  }
 ],
 "metadata": {
  "kernelspec": {
   "display_name": "Python 3",
   "language": "python",
   "name": "python3"
  },
  "language_info": {
   "codemirror_mode": {
    "name": "ipython",
    "version": 3
   },
   "file_extension": ".py",
   "mimetype": "text/x-python",
   "name": "python",
   "nbconvert_exporter": "python",
   "pygments_lexer": "ipython3",
   "version": "3.8.8"
  }
 },
 "nbformat": 4,
 "nbformat_minor": 5
}
